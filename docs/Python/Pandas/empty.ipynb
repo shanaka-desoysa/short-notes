{
  "nbformat": 4,
  "nbformat_minor": 0,
  "metadata": {
    "colab": {
      "name": "empty.ipynb",
      "provenance": [],
      "authorship_tag": "ABX9TyOcnRbq5LXuWhCccbM+kDsO"
    },
    "kernelspec": {
      "name": "python3",
      "display_name": "Python 3"
    }
  },
  "cells": [
    {
      "cell_type": "code",
      "metadata": {
        "id": "-PCuga6Hn2Be"
      },
      "source": [
        ""
      ],
      "execution_count": null,
      "outputs": []
    }
  ]
}